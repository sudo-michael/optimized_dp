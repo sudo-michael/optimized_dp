{
 "cells": [
  {
   "cell_type": "code",
   "execution_count": null,
   "metadata": {},
   "outputs": [],
   "source": [
    "# Requires ipywidgets \n",
    "#\n",
    "# Installation:\n",
    "# pip install ipywidgets\n",
    "# jupyter nbextension enable --py widgetsnbextension\n",
    "#\n",
    "# https://ipywidgets.readthedocs.io/en/latest/user_install.html"
   ]
  },
  {
   "cell_type": "code",
   "execution_count": 1,
   "metadata": {},
   "outputs": [],
   "source": [
    "import plotly.graph_objects as go\n",
    "from ipywidgets import interactive, fixed\n",
    "from Plots.plotting_utilities import plot_isosurface\n",
    "import numpy as np"
   ]
  },
  {
   "cell_type": "code",
   "execution_count": 2,
   "metadata": {},
   "outputs": [
    {
     "name": "stdout",
     "output_type": "stream",
     "text": [
      "Welcome to optimized_dp \n",
      "\n",
      "\n"
     ]
    }
   ],
   "source": [
    "from user_definer import g"
   ]
  },
  {
   "cell_type": "code",
   "execution_count": 3,
   "metadata": {},
   "outputs": [],
   "source": [
    "# load saved V table from solver.py\n",
    "V = np.load(\"cone01_r06.npy\")\n",
    "grid_speed_points = g.pts_each_dim[2] - 1"
   ]
  },
  {
   "cell_type": "code",
   "execution_count": 4,
   "metadata": {},
   "outputs": [],
   "source": [
    "interactive_plot = interactive(plot_isosurface,\n",
    "                               grid = fixed(g),\n",
    "                               V = fixed(V),\n",
    "                               dims_plot = fixed([0, 1, 3]),\n",
    "                               s = (0, grid_speed_points))"
   ]
  },
  {
   "cell_type": "code",
   "execution_count": 5,
   "metadata": {},
   "outputs": [
    {
     "data": {
      "application/vnd.jupyter.widget-view+json": {
       "model_id": "3a0c115677404fa895246b1bbdfc238b",
       "version_major": 2,
       "version_minor": 0
      },
      "text/plain": [
       "interactive(children=(IntSlider(value=24, description='s', max=49), Output()), _dom_classes=('widget-interact'…"
      ]
     },
     "metadata": {},
     "output_type": "display_data"
    }
   ],
   "source": [
    "interactive_plot"
   ]
  }
 ],
 "metadata": {
  "kernelspec": {
   "display_name": "Python 3",
   "language": "python",
   "name": "python3"
  },
  "language_info": {
   "codemirror_mode": {
    "name": "ipython",
    "version": 3
   },
   "file_extension": ".py",
   "mimetype": "text/x-python",
   "name": "python",
   "nbconvert_exporter": "python",
   "pygments_lexer": "ipython3",
   "version": "3.6.9"
  }
 },
 "nbformat": 4,
 "nbformat_minor": 4
}
